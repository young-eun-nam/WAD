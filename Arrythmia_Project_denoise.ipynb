{
 "cells": [
  {
   "cell_type": "markdown",
   "metadata": {
    "id": "eoPHZFR2gusB"
   },
   "source": [
    "# Overview"
   ]
  },
  {
   "cell_type": "markdown",
   "metadata": {
    "id": "s2_pyoWogusG"
   },
   "source": [
    "[ Data ] ECG signal (continuous electrical measurement of the heart) <br>\n",
    "[ Task ] Train 3 neural networks to predict heart arrythmias: dense neural network, CNN, and LSTM."
   ]
  },
  {
   "cell_type": "markdown",
   "metadata": {
    "id": "fAUXsgbvgusG"
   },
   "source": [
    "# Dataset"
   ]
  },
  {
   "cell_type": "markdown",
   "metadata": {
    "id": "DfHZ6UGNgusH"
   },
   "source": [
    "MIH-BIH Arrythmia dataset from https://physionet.org/content/mitdb/1.0.0/. <br>\n",
    "* 48 half-hour two-channel ECG recordings measured at 360 Hz\n",
    "* The symbols for the annotations: https://archive.physionet.org/physiobank/annotations.shtml"
   ]
  },
  {
   "cell_type": "markdown",
   "metadata": {
    "id": "FwqGzahigusH"
   },
   "source": [
    "# Task"
   ]
  },
  {
   "cell_type": "markdown",
   "metadata": {
    "id": "_8v85K73gusH"
   },
   "source": [
    "Predict if a heart beat from the first ECG signal has an arrhythmia for each 6 second window centered on the peak of the heart beat. "
   ]
  },
  {
   "cell_type": "markdown",
   "metadata": {
    "id": "NfdQNl8ugusH"
   },
   "source": [
    "# Data Loading"
   ]
  },
  {
   "cell_type": "code",
   "execution_count": 1,
   "metadata": {
    "id": "kdFlW6oOgusH"
   },
   "outputs": [],
   "source": [
    "import pandas as pd\n",
    "import numpy as np\n",
    "import matplotlib.pyplot as plt\n",
    "from os import listdir"
   ]
  },
  {
   "cell_type": "code",
   "execution_count": 2,
   "metadata": {
    "id": "KoLhh_dwjnhI"
   },
   "outputs": [],
   "source": [
    "data_path = 'mit-bih-arrhythmia-database-1.0.0/'"
   ]
  },
  {
   "cell_type": "code",
   "execution_count": 3,
   "metadata": {
    "id": "EhuPxGBVgusI"
   },
   "outputs": [],
   "source": [
    "# list of patients\n",
    "pts = ['100','101','102','103','104','105','106','107',\n",
    "       '108','109','111','112','113','114','115','116',\n",
    "       '117','118','119','121','122','123','124','200',\n",
    "       '201','202','203','205','207','208','209','210',\n",
    "       '212','213','214','215','217','219','220','221',\n",
    "       '222','223','228','230','231','232','233','234']"
   ]
  },
  {
   "cell_type": "markdown",
   "metadata": {
    "id": "C_DEcs2IgusI"
   },
   "source": [
    "Pypi (Python Package Index) package wfdb for loading the ecg and annotations. <br>\n",
    ": https://pypi.org/project/wfdb/"
   ]
  },
  {
   "cell_type": "code",
   "execution_count": 4,
   "metadata": {
    "colab": {
     "base_uri": "https://localhost:8080/"
    },
    "id": "NK7STJ-LgusJ",
    "outputId": "410b58e2-727d-43d7-f65f-d733d3b88746"
   },
   "outputs": [
    {
     "name": "stdout",
     "output_type": "stream",
     "text": [
      "3.1.1\n"
     ]
    }
   ],
   "source": [
    "import wfdb\n",
    "print(wfdb.__version__)"
   ]
  },
  {
   "cell_type": "markdown",
   "metadata": {
    "id": "AW04BltzgusJ"
   },
   "source": [
    "Let's load all the annotations and see the distribution of heart beat types across all files. "
   ]
  },
  {
   "cell_type": "code",
   "execution_count": 5,
   "metadata": {
    "id": "xEWENvjGgusJ"
   },
   "outputs": [],
   "source": [
    "df = pd.DataFrame()\n",
    "\n",
    "for pt in pts:\n",
    "    file = data_path + pt\n",
    "    annotation = wfdb.rdann(file, 'atr')\n",
    "    sym = annotation.symbol\n",
    "    \n",
    "    values, counts = np.unique(sym, return_counts=True)\n",
    "    df_sub = pd.DataFrame({'sym':values, 'val':counts, 'pt':[pt]*len(counts)})\n",
    "    df = pd.concat([df, df_sub], axis = 0)"
   ]
  },
  {
   "cell_type": "code",
   "execution_count": 6,
   "metadata": {
    "colab": {
     "base_uri": "https://localhost:8080/",
     "height": 419
    },
    "id": "9U7IRfX5gusK",
    "outputId": "041dba3d-b6e3-4319-d479-7fb634d001df"
   },
   "outputs": [
    {
     "data": {
      "text/html": [
       "<div>\n",
       "<style scoped>\n",
       "    .dataframe tbody tr th:only-of-type {\n",
       "        vertical-align: middle;\n",
       "    }\n",
       "\n",
       "    .dataframe tbody tr th {\n",
       "        vertical-align: top;\n",
       "    }\n",
       "\n",
       "    .dataframe thead th {\n",
       "        text-align: right;\n",
       "    }\n",
       "</style>\n",
       "<table border=\"1\" class=\"dataframe\">\n",
       "  <thead>\n",
       "    <tr style=\"text-align: right;\">\n",
       "      <th></th>\n",
       "      <th>sym</th>\n",
       "      <th>val</th>\n",
       "      <th>pt</th>\n",
       "    </tr>\n",
       "  </thead>\n",
       "  <tbody>\n",
       "    <tr>\n",
       "      <th>0</th>\n",
       "      <td>+</td>\n",
       "      <td>1</td>\n",
       "      <td>100</td>\n",
       "    </tr>\n",
       "    <tr>\n",
       "      <th>1</th>\n",
       "      <td>A</td>\n",
       "      <td>33</td>\n",
       "      <td>100</td>\n",
       "    </tr>\n",
       "    <tr>\n",
       "      <th>2</th>\n",
       "      <td>N</td>\n",
       "      <td>2239</td>\n",
       "      <td>100</td>\n",
       "    </tr>\n",
       "    <tr>\n",
       "      <th>3</th>\n",
       "      <td>V</td>\n",
       "      <td>1</td>\n",
       "      <td>100</td>\n",
       "    </tr>\n",
       "    <tr>\n",
       "      <th>0</th>\n",
       "      <td>+</td>\n",
       "      <td>1</td>\n",
       "      <td>101</td>\n",
       "    </tr>\n",
       "    <tr>\n",
       "      <th>...</th>\n",
       "      <td>...</td>\n",
       "      <td>...</td>\n",
       "      <td>...</td>\n",
       "    </tr>\n",
       "    <tr>\n",
       "      <th>0</th>\n",
       "      <td>+</td>\n",
       "      <td>3</td>\n",
       "      <td>234</td>\n",
       "    </tr>\n",
       "    <tr>\n",
       "      <th>1</th>\n",
       "      <td>J</td>\n",
       "      <td>50</td>\n",
       "      <td>234</td>\n",
       "    </tr>\n",
       "    <tr>\n",
       "      <th>2</th>\n",
       "      <td>N</td>\n",
       "      <td>2700</td>\n",
       "      <td>234</td>\n",
       "    </tr>\n",
       "    <tr>\n",
       "      <th>3</th>\n",
       "      <td>V</td>\n",
       "      <td>3</td>\n",
       "      <td>234</td>\n",
       "    </tr>\n",
       "    <tr>\n",
       "      <th>4</th>\n",
       "      <td>~</td>\n",
       "      <td>8</td>\n",
       "      <td>234</td>\n",
       "    </tr>\n",
       "  </tbody>\n",
       "</table>\n",
       "<p>283 rows × 3 columns</p>\n",
       "</div>"
      ],
      "text/plain": [
       "   sym   val   pt\n",
       "0    +     1  100\n",
       "1    A    33  100\n",
       "2    N  2239  100\n",
       "3    V     1  100\n",
       "0    +     1  101\n",
       "..  ..   ...  ...\n",
       "0    +     3  234\n",
       "1    J    50  234\n",
       "2    N  2700  234\n",
       "3    V     3  234\n",
       "4    ~     8  234\n",
       "\n",
       "[283 rows x 3 columns]"
      ]
     },
     "execution_count": 6,
     "metadata": {},
     "output_type": "execute_result"
    }
   ],
   "source": [
    "df"
   ]
  },
  {
   "cell_type": "code",
   "execution_count": 7,
   "metadata": {
    "colab": {
     "base_uri": "https://localhost:8080/"
    },
    "id": "CjIB6JNfgusK",
    "outputId": "c463585e-6229-44e3-af06-0baeea813b73"
   },
   "outputs": [
    {
     "data": {
      "text/plain": [
       "sym\n",
       "N    75052\n",
       "L     8075\n",
       "R     7259\n",
       "V     7130\n",
       "/     7028\n",
       "A     2546\n",
       "+     1291\n",
       "f      982\n",
       "F      803\n",
       "~      616\n",
       "!      472\n",
       "\"      437\n",
       "j      229\n",
       "x      193\n",
       "a      150\n",
       "|      132\n",
       "E      106\n",
       "J       83\n",
       "Q       33\n",
       "e       16\n",
       "[        6\n",
       "]        6\n",
       "S        2\n",
       "Name: val, dtype: int64"
      ]
     },
     "execution_count": 7,
     "metadata": {},
     "output_type": "execute_result"
    }
   ],
   "source": [
    "df.groupby('sym').val.sum().sort_values(ascending = False)"
   ]
  },
  {
   "cell_type": "code",
   "execution_count": 8,
   "metadata": {
    "id": "o6rhAQzIgusK"
   },
   "outputs": [],
   "source": [
    "# list of nonbeat and abnormal\n",
    "nonbeat = ['[','!',']','x','(',')','p','t','u','`',\n",
    "           '\\'','^','|','~','+','s','T','*','D','=','\"','@','Q','?']\n",
    "abnormal = ['L','R','V','/','A','f','F','j','a','E','J','e','S']\n",
    "normal = ['N']"
   ]
  },
  {
   "cell_type": "code",
   "execution_count": 9,
   "metadata": {
    "id": "5rW4o-W0gusK"
   },
   "outputs": [],
   "source": [
    "# break into nonbeat, normal, or abnormal\n",
    "df['cat'] = -1\n",
    "df.loc[df.sym.isin(normal),'cat'] = 0\n",
    "df.loc[df.sym.isin(abnormal), 'cat'] = 1"
   ]
  },
  {
   "cell_type": "code",
   "execution_count": 10,
   "metadata": {
    "colab": {
     "base_uri": "https://localhost:8080/"
    },
    "id": "IM72Ftr9gusL",
    "outputId": "01949207-7729-4c53-e0d0-927a57acf3d7"
   },
   "outputs": [
    {
     "data": {
      "text/plain": [
       "cat\n",
       "-1     3186\n",
       " 0    75052\n",
       " 1    34409\n",
       "Name: val, dtype: int64"
      ]
     },
     "execution_count": 10,
     "metadata": {},
     "output_type": "execute_result"
    }
   ],
   "source": [
    "df.groupby('cat').val.sum()"
   ]
  },
  {
   "cell_type": "markdown",
   "metadata": {
    "id": "VD6nBqWmgusL"
   },
   "source": [
    "Patient's signals and annotations"
   ]
  },
  {
   "cell_type": "code",
   "execution_count": 11,
   "metadata": {
    "id": "nN5abamygusL"
   },
   "outputs": [],
   "source": [
    "def load_ecg(file):\n",
    "    # load the ecg\n",
    "    # example file: 'mit-bih-arrhythmia-database-1.0.0/101'\n",
    "    \n",
    "    # load the ecg\n",
    "    record = wfdb.rdrecord(file)\n",
    "    # load the annotation\n",
    "    annotation = wfdb.rdann(file, 'atr')\n",
    "    \n",
    "    # extract the signal\n",
    "    p_signal = record.p_signal\n",
    "    \n",
    "    # verify frequency is 360\n",
    "    assert record.fs == 360, 'sample freq is not 360'\n",
    "    \n",
    "    # extract symbols and annotation index\n",
    "    atr_sym = annotation.symbol\n",
    "    atr_sample = annotation.sample\n",
    "    \n",
    "    return p_signal, atr_sym, atr_sample "
   ]
  },
  {
   "cell_type": "markdown",
   "metadata": {
    "id": "0Ib9MKLXgusL"
   },
   "source": [
    "Let's check out what abnormal beats are in a patient's ecg:"
   ]
  },
  {
   "cell_type": "code",
   "execution_count": 273,
   "metadata": {
    "id": "RcpJhnF_gusL"
   },
   "outputs": [],
   "source": [
    "file = data_path + pts[0]"
   ]
  },
  {
   "cell_type": "code",
   "execution_count": 274,
   "metadata": {
    "id": "t0eK_0mGgusL"
   },
   "outputs": [],
   "source": [
    "p_signal, atr_sym, atr_sample = load_ecg(file)"
   ]
  },
  {
   "cell_type": "code",
   "execution_count": 275,
   "metadata": {},
   "outputs": [
    {
     "data": {
      "text/plain": [
       "array([[-0.145, -0.065],\n",
       "       [-0.145, -0.065],\n",
       "       [-0.145, -0.065],\n",
       "       ...,\n",
       "       [-0.675, -0.365],\n",
       "       [-0.765, -0.335],\n",
       "       [-1.28 ,  0.   ]])"
      ]
     },
     "execution_count": 275,
     "metadata": {},
     "output_type": "execute_result"
    }
   ],
   "source": [
    "p_signal"
   ]
  },
  {
   "cell_type": "code",
   "execution_count": 276,
   "metadata": {},
   "outputs": [
    {
     "data": {
      "text/plain": [
       "2274"
      ]
     },
     "execution_count": 276,
     "metadata": {},
     "output_type": "execute_result"
    }
   ],
   "source": [
    "len(atr_sym)"
   ]
  },
  {
   "cell_type": "code",
   "execution_count": 277,
   "metadata": {},
   "outputs": [
    {
     "data": {
      "text/plain": [
       "array([    18,     77,    370, ..., 649484, 649734, 649991])"
      ]
     },
     "execution_count": 277,
     "metadata": {},
     "output_type": "execute_result"
    }
   ],
   "source": [
    "atr_sample"
   ]
  },
  {
   "cell_type": "code",
   "execution_count": 278,
   "metadata": {
    "colab": {
     "base_uri": "https://localhost:8080/"
    },
    "id": "SUAhT7kagusM",
    "outputId": "06bf5d72-b527-408a-9d38-0577ea35ea2c"
   },
   "outputs": [
    {
     "name": "stdout",
     "output_type": "stream",
     "text": [
      "+ 3\n",
      "J 50\n",
      "N 2700\n",
      "V 3\n",
      "~ 8\n"
     ]
    }
   ],
   "source": [
    "values, counts = np.unique(sym, return_counts=True)\n",
    "for v,c in zip(values, counts):\n",
    "    print(v,c)"
   ]
  },
  {
   "cell_type": "markdown",
   "metadata": {
    "id": "8APtdsCpgusM"
   },
   "source": [
    "Let's make a plot of these, zooming in on one of the abnormal beats"
   ]
  },
  {
   "cell_type": "code",
   "execution_count": 279,
   "metadata": {
    "colab": {
     "base_uri": "https://localhost:8080/"
    },
    "id": "stYFVxyCgusM",
    "outputId": "39ff9a4b-13b9-4569-b1ac-4c27768e14ff"
   },
   "outputs": [
    {
     "data": {
      "text/plain": [
       "[2044, 66792, 74986, 99579, 128085, 170719, 279576, 305709, 307745, 312825]"
      ]
     },
     "execution_count": 279,
     "metadata": {},
     "output_type": "execute_result"
    }
   ],
   "source": [
    "# get abnormal beat index\n",
    "ab_index = [b for a,b in zip(atr_sym,atr_sample) if a in abnormal][:10]\n",
    "ab_index"
   ]
  },
  {
   "cell_type": "code",
   "execution_count": 280,
   "metadata": {
    "id": "DCyHlziwgusM"
   },
   "outputs": [],
   "source": [
    "x = np.arange(len(p_signal))"
   ]
  },
  {
   "cell_type": "code",
   "execution_count": 281,
   "metadata": {
    "colab": {
     "base_uri": "https://localhost:8080/",
     "height": 279
    },
    "id": "1a0egD-IgusM",
    "outputId": "8b32aa8c-86b1-4495-f693-ad550f7398dc"
   },
   "outputs": [
    {
     "data": {
      "image/png": "[encoded data removed]",
      "text/plain": [
       "<Figure size 432x288 with 1 Axes>"
      ]
     },
     "metadata": {
      "needs_background": "light"
     },
     "output_type": "display_data"
    }
   ],
   "source": [
    "left = ab_index[2]-1080\n",
    "right = ab_index[2]+1080\n",
    "\n",
    "plt.plot(x[left:right],p_signal[left:right,0],'-',label='ecg',)\n",
    "plt.plot(x[atr_sample],p_signal[atr_sample,0],'go',label ='normal')\n",
    "plt.plot(x[ab_index],p_signal[ab_index,0],'ro',label='abnormal')\n",
    "\n",
    "plt.xlim(left,right)\n",
    "plt.ylim(p_signal[left:right].min()-0.05,p_signal[left:right,0].max()+0.05)\n",
    "plt.xlabel('time index')\n",
    "plt.ylabel('ECG signal')\n",
    "plt.legend(bbox_to_anchor = (1.04,1), loc = 'upper left')\n",
    "plt.show()"
   ]
  },
  {
   "cell_type": "markdown",
   "metadata": {
    "id": "ZSzJKFTdgusM"
   },
   "source": [
    "# Data Preprocessing"
   ]
  },
  {
   "cell_type": "markdown",
   "metadata": {
    "id": "IZO7VL0GgusN"
   },
   "source": [
    "Let's make a dataset that is centered on beats with +- 3 seconds before and after. "
   ]
  },
  {
   "cell_type": "code",
   "execution_count": 18,
   "metadata": {
    "id": "3JJcJr52gusN"
   },
   "outputs": [],
   "source": [
    "import pywt"
   ]
  },
  {
   "cell_type": "code",
   "execution_count": 19,
   "metadata": {
    "id": "FcOuWRkPgusN"
   },
   "outputs": [],
   "source": [
    "def denoise(data):\n",
    "    coeffs = pywt.wavedec(data=data, wavelet='db5', level=9)\n",
    "    cA9, cD9, cD8, cD7, cD6, cD5, cD4, cD3, cD2, cD1 = coeffs\n",
    "\n",
    "\n",
    "    threshold = (np.median(np.abs(cD1)) / 0.6745) * (np.sqrt(2 * np.log(len(cD1))))\n",
    "    cD1.fill(0)\n",
    "    cD2.fill(0)\n",
    "    for i in range(1, len(coeffs) - 2):\n",
    "        coeffs[i] = pywt.threshold(coeffs[i], threshold)\n",
    "\n",
    "    rdata = pywt.waverec(coeffs=coeffs, wavelet='db5')\n",
    "    return rdata"
   ]
  },
  {
   "cell_type": "code",
   "execution_count": 232,
   "metadata": {
    "id": "7J4fftI5gusN"
   },
   "outputs": [],
   "source": [
    "def make_dataset(pts, num_sec, fs, abnormal):\n",
    "    # function for making dataset ignoring non-beats\n",
    "    \n",
    "    # input:\n",
    "    # pts - list of patients\n",
    "    # num_sec = number of seconds to include before and after the beat\n",
    "    # fs = frequency\n",
    "    \n",
    "    # output: \n",
    "    #   X_all = signal (nbeats , num_sec * fs columns)\n",
    "    #   Y_all = binary is abnormal (nbeats, 1)\n",
    "    #   sym_all = beat annotation symbol (nbeats,1)\n",
    "    \n",
    "    # initialize numpy arrays\n",
    "    num_cols = 2*num_sec * fs\n",
    "    X_all = np.zeros((1,num_cols))\n",
    "    Y_all = np.zeros((1,1))\n",
    "    sym_all = []\n",
    "    \n",
    "    # list to keep track of number of beats across patients\n",
    "    max_rows = []\n",
    "    \n",
    "    for pt in pts:\n",
    "        file = data_path + pt\n",
    "        \n",
    "        p_signal, atr_sym, atr_sample = load_ecg(file)\n",
    "        \n",
    "        # grab the first signal\n",
    "        p_signal = p_signal[:,0]\n",
    "        p_signal = denoise(p_signal)\n",
    "        \n",
    "        # make df to exclude the nonbeats\n",
    "        df_ann = pd.DataFrame({'atr_sym':atr_sym,\n",
    "                              'atr_sample':atr_sample})\n",
    "        df_ann = df_ann.loc[df_ann.atr_sym.isin(abnormal + ['N'])]\n",
    "        \n",
    "        X,Y,sym = build_XY(p_signal,df_ann, num_cols, abnormal)\n",
    "        sym_all = sym_all+sym\n",
    "        max_rows.append(X.shape[0])\n",
    "        X_all = np.append(X_all,X,axis = 0)\n",
    "        Y_all = np.append(Y_all,Y,axis = 0)\n",
    "    # drop the first zero row\n",
    "    X_all = X_all[1:,:]\n",
    "    Y_all = Y_all[1:,:]\n",
    "    \n",
    "    # check sizes make sense\n",
    "    assert np.sum(max_rows) == X_all.shape[0], 'number of X, max_rows rows messed up'\n",
    "    assert Y_all.shape[0] == X_all.shape[0], 'number of X, Y rows messed up'\n",
    "    assert Y_all.shape[0] == len(sym_all), 'number of Y, sym rows messed up'\n",
    "\n",
    "    return X_all, Y_all, sym_all\n",
    "\n",
    "\n",
    "\n",
    "def build_XY(p_signal, df_ann, num_cols, abnormal):\n",
    "    # this function builds the X,Y matrices for each beat\n",
    "    # it also returns the original symbols for Y\n",
    "    \n",
    "    num_rows = len(df_ann)\n",
    "\n",
    "    X = np.zeros((num_rows, num_cols))\n",
    "    Y = np.zeros((num_rows,1))\n",
    "    sym = []\n",
    "    \n",
    "    # keep track of rows\n",
    "    max_row = 0\n",
    "\n",
    "    for atr_sample, atr_sym in zip(df_ann.atr_sample.values,df_ann.atr_sym.values):\n",
    "\n",
    "        left = max([0,(atr_sample - num_sec*fs) ])\n",
    "        right = min([len(p_signal),(atr_sample + num_sec*fs) ])\n",
    "        x = p_signal[left: right]\n",
    "        if len(x) == num_cols:\n",
    "            X[max_row,:] = x\n",
    "            Y[max_row,:] = int(atr_sym in abnormal)\n",
    "            sym.append(atr_sym)\n",
    "            max_row += 1\n",
    "    X = X[:max_row,:]\n",
    "    Y = Y[:max_row,:]\n",
    "    return X,Y,sym"
   ]
  },
  {
   "cell_type": "markdown",
   "metadata": {
    "id": "llgbwcJfgusN"
   },
   "source": [
    "# Lesson 1: split on patients not on samples"
   ]
  },
  {
   "cell_type": "markdown",
   "metadata": {
    "id": "G-9vzLeMgusO"
   },
   "source": [
    "Processing all patients"
   ]
  },
  {
   "cell_type": "code",
   "execution_count": 233,
   "metadata": {
    "id": "JFx6L-ROgusO"
   },
   "outputs": [],
   "source": [
    "num_sec = 3\n",
    "fs = 360"
   ]
  },
  {
   "cell_type": "code",
   "execution_count": 234,
   "metadata": {
    "id": "ORSJvz3UgusO"
   },
   "outputs": [],
   "source": [
    "X_all, Y_all, sym_all = make_dataset(pts, num_sec, fs, abnormal)"
   ]
  },
  {
   "cell_type": "code",
   "execution_count": 390,
   "metadata": {},
   "outputs": [
    {
     "data": {
      "text/plain": [
       "(109099, 2160)"
      ]
     },
     "execution_count": 390,
     "metadata": {},
     "output_type": "execute_result"
    }
   ],
   "source": [
    "X_all.shape"
   ]
  },
  {
   "cell_type": "code",
   "execution_count": 396,
   "metadata": {},
   "outputs": [
    {
     "data": {
      "text/plain": [
       "(109099, 1)"
      ]
     },
     "execution_count": 396,
     "metadata": {},
     "output_type": "execute_result"
    }
   ],
   "source": [
    "Y_all.shape"
   ]
  },
  {
   "cell_type": "code",
   "execution_count": 394,
   "metadata": {},
   "outputs": [
    {
     "data": {
      "text/plain": [
       "109099"
      ]
     },
     "execution_count": 394,
     "metadata": {},
     "output_type": "execute_result"
    }
   ],
   "source": [
    "len(sym_all)"
   ]
  },
  {
   "cell_type": "code",
   "execution_count": 369,
   "metadata": {},
   "outputs": [
    {
     "data": {
      "text/plain": [
       "[<matplotlib.lines.Line2D at 0x7fe059277c18>]"
      ]
     },
     "execution_count": 369,
     "metadata": {},
     "output_type": "execute_result"
    },
    {
     "data": {
      "image/png": "[encoded data removed]",
      "text/plain": [
       "<Figure size 432x288 with 1 Axes>"
      ]
     },
     "metadata": {
      "needs_background": "light"
     },
     "output_type": "display_data"
    }
   ],
   "source": [
    "plt.plot(X_all[0],'-',label='ecg',)"
   ]
  },
  {
   "cell_type": "code",
   "execution_count": 370,
   "metadata": {},
   "outputs": [
    {
     "data": {
      "text/plain": [
       "[<matplotlib.lines.Line2D at 0x7fe059eb9908>]"
      ]
     },
     "execution_count": 370,
     "metadata": {},
     "output_type": "execute_result"
    },
    {
     "data": {
      "image/png": "[encoded data removed]",
      "text/plain": [
       "<Figure size 432x288 with 1 Axes>"
      ]
     },
     "metadata": {
      "needs_background": "light"
     },
     "output_type": "display_data"
    }
   ],
   "source": [
    "plt.plot(X_all[0, :1500],'-',label='ecg',)"
   ]
  },
  {
   "cell_type": "code",
   "execution_count": 371,
   "metadata": {},
   "outputs": [
    {
     "data": {
      "text/plain": [
       "[<matplotlib.lines.Line2D at 0x7fe0591c0470>]"
      ]
     },
     "execution_count": 371,
     "metadata": {},
     "output_type": "execute_result"
    },
    {
     "data": {
      "image/png": "[encoded data removed]",
      "text/plain": [
       "<Figure size 432x288 with 1 Axes>"
      ]
     },
     "metadata": {
      "needs_background": "light"
     },
     "output_type": "display_data"
    }
   ],
   "source": [
    "plt.plot(X_all[0, :500],'-',label='ecg',)"
   ]
  },
  {
   "cell_type": "code",
   "execution_count": 300,
   "metadata": {},
   "outputs": [
    {
     "data": {
      "text/plain": [
       "(2160, 109099)"
      ]
     },
     "execution_count": 300,
     "metadata": {},
     "output_type": "execute_result"
    }
   ],
   "source": [
    "X_all.T.shape"
   ]
  },
  {
   "cell_type": "code",
   "execution_count": 368,
   "metadata": {},
   "outputs": [
    {
     "data": {
      "text/plain": [
       "[<matplotlib.lines.Line2D at 0x7fe05931e898>]"
      ]
     },
     "execution_count": 368,
     "metadata": {},
     "output_type": "execute_result"
    },
    {
     "data": {
      "image/png": "[encoded data removed]",
      "text/plain": [
       "<Figure size 432x288 with 1 Axes>"
      ]
     },
     "metadata": {
      "needs_background": "light"
     },
     "output_type": "display_data"
    }
   ],
   "source": [
    "plt.plot(X_all.T[1, :2000],'-',label='ecg',)"
   ]
  },
  {
   "cell_type": "code",
   "execution_count": 305,
   "metadata": {},
   "outputs": [
    {
     "data": {
      "text/plain": [
       "[<matplotlib.lines.Line2D at 0x7fdbfce697f0>]"
      ]
     },
     "execution_count": 305,
     "metadata": {},
     "output_type": "execute_result"
    },
    {
     "data": {
      "image/png": "[encoded data removed]",
      "text/plain": [
       "<Figure size 432x288 with 1 Axes>"
      ]
     },
     "metadata": {
      "needs_background": "light"
     },
     "output_type": "display_data"
    }
   ],
   "source": [
    "plt.plot(X_all.T[10, :50],'-',label='ecg',)"
   ]
  },
  {
   "cell_type": "code",
   "execution_count": 23,
   "metadata": {
    "id": "EnSZq90zgusO"
   },
   "outputs": [],
   "source": [
    "from sklearn.model_selection import train_test_split\n",
    "\n",
    "X_train, X_valid, y_train, y_valid = train_test_split(X_all, Y_all, test_size=0.25, random_state=42)"
   ]
  },
  {
   "cell_type": "code",
   "execution_count": 24,
   "metadata": {
    "colab": {
     "base_uri": "https://localhost:8080/"
    },
    "id": "rvUAkn2pgusO",
    "outputId": "e059f6a0-3f71-4d1c-ec13-24e677ab3502"
   },
   "outputs": [
    {
     "name": "stdout",
     "output_type": "stream",
     "text": [
      "Tensorflow version: 2.3.1\n",
      "WARNING:tensorflow:From <ipython-input-24-fda558e9e642>:5: is_gpu_available (from tensorflow.python.framework.test_util) is deprecated and will be removed in a future version.\n",
      "Instructions for updating:\n",
      "Use `tf.config.list_physical_devices('GPU')` instead.\n",
      "True\n"
     ]
    }
   ],
   "source": [
    "import tensorflow as tf\n",
    "import os\n",
    "os.environ[\"CUDA_VISIBLE_DEVICES\"] = \"1\"\n",
    "print(\"Tensorflow version:\", tf.__version__)\n",
    "print(tf.test.is_gpu_available())"
   ]
  },
  {
   "cell_type": "code",
   "execution_count": 25,
   "metadata": {
    "colab": {
     "base_uri": "https://localhost:8080/"
    },
    "id": "YgWHL0SOgusO",
    "outputId": "0fc99742-ee68-4eb7-aa61-35be51ac83d2"
   },
   "outputs": [
    {
     "name": "stdout",
     "output_type": "stream",
     "text": [
      "1 Physical GPUs, 1 Logical GPUs\n"
     ]
    }
   ],
   "source": [
    "gpus = tf.config.experimental.list_physical_devices('GPU')\n",
    "if gpus:\n",
    "    try:\n",
    "        # Currently, memory growth needs to be the same across GPUs\n",
    "        for gpu in gpus:\n",
    "            tf.config.experimental.set_memory_growth(gpu, True)\n",
    "        logical_gpus = tf.config.experimental.list_logical_devices('GPU')\n",
    "        print(len(gpus), \"Physical GPUs,\", len(logical_gpus), \"Logical GPUs\")\n",
    "    except RuntimeError as e:\n",
    "        # Memory growth must be set before GPUs have been initialized\n",
    "        print(e)"
   ]
  },
  {
   "cell_type": "code",
   "execution_count": 26,
   "metadata": {
    "id": "2NQQJVLzgusQ"
   },
   "outputs": [],
   "source": [
    "from sklearn.metrics import roc_auc_score, accuracy_score, precision_score, recall_score\n",
    "def calc_prevalence(y_actual):\n",
    "    return (sum(y_actual)/len(y_actual))\n",
    "def calc_specificity(y_actual, y_pred, thresh):\n",
    "    # calculates specificity\n",
    "    return sum((y_pred < thresh) & (y_actual == 0)) /sum(y_actual ==0)\n",
    "def print_report(y_actual, y_pred, thresh):\n",
    "    \n",
    "    auc = roc_auc_score(y_actual, y_pred)\n",
    "    accuracy = accuracy_score(y_actual, (y_pred > thresh))\n",
    "    recall = recall_score(y_actual, (y_pred > thresh))\n",
    "    precision = precision_score(y_actual, (y_pred > thresh))\n",
    "    specificity = calc_specificity(y_actual, y_pred, thresh)\n",
    "    print('AUC:%.3f'%auc)\n",
    "    print('accuracy:%.3f'%accuracy)\n",
    "    print('recall:%.3f'%recall)\n",
    "    print('precision:%.3f'%precision)\n",
    "    print('specificity:%.3f'%specificity)\n",
    "    print('prevalence:%.3f'%calc_prevalence(y_actual))\n",
    "    print(' ')\n",
    "    return auc, accuracy, recall, precision, specificity"
   ]
  },
  {
   "cell_type": "markdown",
   "metadata": {
    "id": "24Am63e3gusP"
   },
   "source": [
    "### Dense Neural Net"
   ]
  },
  {
   "cell_type": "code",
   "execution_count": 27,
   "metadata": {
    "id": "XbV55BQJgusP"
   },
   "outputs": [],
   "source": [
    "import tensorflow as tf\n",
    "from keras.models import Sequential\n",
    "from keras.layers import Dense, Flatten, Dropout\n",
    "from keras.utils import to_categorical"
   ]
  },
  {
   "cell_type": "markdown",
   "metadata": {
    "id": "9wyv2RotgusR"
   },
   "source": [
    "By splitting on patients instead of samples"
   ]
  },
  {
   "cell_type": "code",
   "execution_count": 326,
   "metadata": {
    "colab": {
     "base_uri": "https://localhost:8080/"
    },
    "id": "FlfSsSghgusR",
    "outputId": "e8fba088-6ff7-4510-9cef-1c39c859691f"
   },
   "outputs": [
    {
     "name": "stdout",
     "output_type": "stream",
     "text": [
      "36 12\n"
     ]
    }
   ],
   "source": [
    "import random\n",
    "random.seed( 42 )\n",
    "pts_train = random.sample(pts, 36)\n",
    "pts_valid = [pt for pt in pts if pt not in pts_train]\n",
    "print(len(pts_train), len(pts_valid))"
   ]
  },
  {
   "cell_type": "code",
   "execution_count": 327,
   "metadata": {
    "colab": {
     "base_uri": "https://localhost:8080/"
    },
    "id": "BY5ZfPZigusR",
    "outputId": "2fc976b1-213c-4295-fd5d-f3f802c35525"
   },
   "outputs": [
    {
     "name": "stdout",
     "output_type": "stream",
     "text": [
      "(80614, 2160) (80614, 1) 80614\n",
      "(28485, 2160) (28485, 1) 28485\n"
     ]
    }
   ],
   "source": [
    "X_train, y_train, sym_train = make_dataset(pts_train, num_sec, fs, abnormal)\n",
    "X_valid, y_valid, sym_valid = make_dataset(pts_valid, num_sec, fs, abnormal)\n",
    "print(X_train.shape, y_train.shape, len(sym_train))\n",
    "print(X_valid.shape, y_valid.shape, len(sym_valid))"
   ]
  },
  {
   "cell_type": "markdown",
   "metadata": {},
   "source": [
    "---------------------------------------------------------------------------------------------------------------------------------------------------------------------------------"
   ]
  },
  {
   "cell_type": "code",
   "execution_count": 30,
   "metadata": {
    "colab": {
     "base_uri": "https://localhost:8080/"
    },
    "id": "Kwxf91-vgusR",
    "outputId": "14c3092e-d35f-4b10-91c3-e3a6302e6fed"
   },
   "outputs": [
    {
     "name": "stdout",
     "output_type": "stream",
     "text": [
      "Epoch 1/5\n",
      "2520/2520 [==============================] - 10s 4ms/step - loss: 0.3442 - accuracy: 0.8654\n",
      "Epoch 2/5\n",
      "2520/2520 [==============================] - 10s 4ms/step - loss: 0.2026 - accuracy: 0.9340\n",
      "Epoch 3/5\n",
      "2520/2520 [==============================] - 10s 4ms/step - loss: 0.1734 - accuracy: 0.9457\n",
      "Epoch 4/5\n",
      "2520/2520 [==============================] - 9s 4ms/step - loss: 0.1592 - accuracy: 0.9503\n",
      "Epoch 5/5\n",
      "2520/2520 [==============================] - 9s 4ms/step - loss: 0.1462 - accuracy: 0.9553\n"
     ]
    },
    {
     "data": {
      "text/plain": [
       "<tensorflow.python.keras.callbacks.History at 0x7fe0768b96a0>"
      ]
     },
     "execution_count": 30,
     "metadata": {},
     "output_type": "execute_result"
    }
   ],
   "source": [
    "# build the same model\n",
    "# lets test out relu (a different activation function) and add drop out (for regularization)\n",
    "model = Sequential()\n",
    "model.add(Dense(64, activation = 'relu', input_dim = X_train.shape[1]))\n",
    "model.add(Dropout(rate = 0.5))\n",
    "model.add(Dense(32, activation = 'relu'))\n",
    "model.add(Dropout(rate = 0.5))\n",
    "model.add(Dense(1, activation = 'sigmoid'))\n",
    "\n",
    "# compile the model - use categorical crossentropy, and the adam optimizer\n",
    "model.compile(\n",
    "                loss = 'binary_crossentropy',\n",
    "                optimizer = 'adam',\n",
    "                metrics = ['accuracy'])\n",
    "\n",
    "model.fit(X_train, y_train, batch_size = 32, epochs= 5, verbose = 1)"
   ]
  },
  {
   "cell_type": "code",
   "execution_count": 31,
   "metadata": {
    "colab": {
     "base_uri": "https://localhost:8080/"
    },
    "id": "6DX1O3-3gusR",
    "outputId": "79f7f022-acad-4865-b04f-438ed5d04ee7"
   },
   "outputs": [
    {
     "name": "stdout",
     "output_type": "stream",
     "text": [
      "2520/2520 [==============================] - 3s 1ms/step\n",
      "891/891 [==============================] - 1s 1ms/step\n"
     ]
    }
   ],
   "source": [
    "y_train_preds_dense = model.predict(X_train,verbose = 1)\n",
    "y_valid_preds_dense = model.predict(X_valid,verbose = 1)"
   ]
  },
  {
   "cell_type": "code",
   "execution_count": 32,
   "metadata": {
    "colab": {
     "base_uri": "https://localhost:8080/"
    },
    "id": "WtNFGvStgusS",
    "outputId": "2a34b172-21b3-497f-fa6c-a18788d54830"
   },
   "outputs": [
    {
     "data": {
      "text/plain": [
       "0.29906715955045027"
      ]
     },
     "execution_count": 32,
     "metadata": {},
     "output_type": "execute_result"
    }
   ],
   "source": [
    "thresh = (sum(y_train)/len(y_train))[0]\n",
    "thresh"
   ]
  },
  {
   "cell_type": "code",
   "execution_count": 442,
   "metadata": {
    "colab": {
     "base_uri": "https://localhost:8080/"
    },
    "id": "_Brxy71hgusS",
    "outputId": "97702279-4a71-48bc-9609-ffd681e26da0"
   },
   "outputs": [
    {
     "name": "stdout",
     "output_type": "stream",
     "text": [
      "Train\n",
      "AUC:0.992\n",
      "accuracy:0.974\n",
      "recall:0.946\n",
      "precision:0.965\n",
      "specificity:0.986\n",
      "prevalence:0.299\n",
      " \n",
      "Valid\n",
      "AUC:0.845\n",
      "accuracy:0.745\n",
      "recall:0.374\n",
      "precision:0.815\n",
      "specificity:0.953\n",
      "prevalence:0.358\n",
      " \n"
     ]
    }
   ],
   "source": [
    "print('Train');\n",
    "print_report(y_train, y_train_preds_dense, thresh)\n",
    "print('Valid');\n",
    "print_report(y_valid, y_valid_preds_dense, thresh);"
   ]
  },
  {
   "cell_type": "markdown",
   "metadata": {
    "id": "V03uNcsZgusS"
   },
   "source": [
    "# Lesson 2: learning curve can tells us we should get more data! "
   ]
  },
  {
   "cell_type": "code",
   "execution_count": 34,
   "metadata": {
    "colab": {
     "base_uri": "https://localhost:8080/"
    },
    "id": "OVhZly9qgusS",
    "outputId": "66ce69c6-5be3-4334-c53f-acc92e3e4135"
   },
   "outputs": [
    {
     "name": "stdout",
     "output_type": "stream",
     "text": [
      "1\n",
      "- 0.9271421348516103 0.6822824066836652\n",
      "18\n",
      "- 0.9952978759813371 0.7979209810016863\n",
      "36\n",
      "- 0.9915161085811168 0.8449611364612044\n"
     ]
    }
   ],
   "source": [
    "aucs_train = []\n",
    "aucs_valid = []\n",
    "\n",
    "n_pts = [1,18,36]\n",
    "for n_pt in n_pts:\n",
    "    \n",
    "    print(n_pt)\n",
    "    pts_sub = pts_train[:n_pt]\n",
    "    X_sub, y_sub, sym_sub = make_dataset(pts_sub, num_sec, fs,abnormal)\n",
    "\n",
    "    # build the same model\n",
    "    # lets test out relu (a different activation function) and add drop out (for regularization)\n",
    "    model = Sequential()\n",
    "    model.add(Dense(32, activation = 'relu', input_dim = X_train.shape[1]))\n",
    "    model.add(Dropout(rate = 0.25))\n",
    "    model.add(Dense(1, activation = 'sigmoid'))\n",
    "\n",
    "    # compile the model - use categorical crossentropy, and the adam optimizer\n",
    "    model.compile(\n",
    "                    loss = 'binary_crossentropy',\n",
    "                    optimizer = 'adam',\n",
    "                    metrics = ['accuracy'])\n",
    "\n",
    "    model.fit(X_sub, y_sub, batch_size = 32, epochs= 5, verbose = 0)\n",
    "    y_sub_preds_dense = model.predict(X_sub,verbose = 0)\n",
    "    y_valid_preds_dense = model.predict(X_valid,verbose = 0)\n",
    "    \n",
    "    auc_train = roc_auc_score(y_sub, y_sub_preds_dense)\n",
    "    auc_valid = roc_auc_score(y_valid, y_valid_preds_dense)\n",
    "    print('-',auc_train, auc_valid)\n",
    "    aucs_train.append(auc_train)\n",
    "    aucs_valid.append(auc_valid)"
   ]
  },
  {
   "cell_type": "code",
   "execution_count": 35,
   "metadata": {
    "colab": {
     "base_uri": "https://localhost:8080/",
     "height": 279
    },
    "id": "-sb5RkV4gusS",
    "outputId": "4f831dc4-d2fa-4109-e287-080bf32ded07"
   },
   "outputs": [
    {
     "data": {
      "image/png": "[encoded data removed]",
      "text/plain": [
       "<Figure size 432x288 with 1 Axes>"
      ]
     },
     "metadata": {
      "needs_background": "light"
     },
     "output_type": "display_data"
    }
   ],
   "source": [
    "plt.plot(n_pts, aucs_train, 'o-',label = 'Train')\n",
    "plt.plot(n_pts, aucs_valid, 'o-',label = 'Valid')\n",
    "plt.xlabel('Number Training Pts')\n",
    "plt.ylabel('AUC')\n",
    "plt.legend(bbox_to_anchor = (1.04,1), loc = 'upper left')\n",
    "plt.show()"
   ]
  },
  {
   "cell_type": "markdown",
   "metadata": {
    "id": "OU0hJ25qgusT"
   },
   "source": [
    "More data appears to add extra value to the model. "
   ]
  },
  {
   "cell_type": "markdown",
   "metadata": {
    "id": "tfWpw8uYgusT"
   },
   "source": [
    "# Lesson 3: test multiple types of deep learning models"
   ]
  },
  {
   "cell_type": "markdown",
   "metadata": {
    "id": "l5p0VmrIgusT"
   },
   "source": [
    "## CNN"
   ]
  },
  {
   "cell_type": "markdown",
   "metadata": {
    "id": "MwvnniI3gusT"
   },
   "source": [
    "### Simple CNN"
   ]
  },
  {
   "cell_type": "code",
   "execution_count": 328,
   "metadata": {
    "colab": {
     "base_uri": "https://localhost:8080/"
    },
    "id": "WZaMtSf4gusT",
    "outputId": "08458da3-9da0-4a98-dcfd-0d01e49f5435"
   },
   "outputs": [
    {
     "name": "stdout",
     "output_type": "stream",
     "text": [
      "(80614, 2160, 1)\n",
      "(28485, 2160, 1)\n"
     ]
    }
   ],
   "source": [
    "# reshape input to be [samples, time steps, features = 1]\n",
    "X_train_cnn = np.reshape(X_train, (X_train.shape[0], X_train.shape[1], 1))\n",
    "X_valid_cnn = np.reshape(X_valid, (X_valid.shape[0], X_valid.shape[1], 1))\n",
    "\n",
    "print(X_train_cnn.shape)\n",
    "print(X_valid_cnn.shape)"
   ]
  },
  {
   "cell_type": "code",
   "execution_count": 329,
   "metadata": {
    "id": "p3uUC6bygusT"
   },
   "outputs": [],
   "source": [
    "from keras.layers import Conv1D, MaxPool1D, AvgPool1D"
   ]
  },
  {
   "cell_type": "code",
   "execution_count": 38,
   "metadata": {
    "id": "xtDlXLsLgusU"
   },
   "outputs": [],
   "source": [
    "model = Sequential()\n",
    "model.add(Conv1D(filters = 128, kernel_size = 5, activation = 'relu', input_shape = (2160,1)))\n",
    "model.add(Dropout(rate = 0.5))\n",
    "model.add(Flatten())\n",
    "model.add(Dense(1, activation = 'sigmoid'))\n",
    "\n",
    "# compile the model - use categorical crossentropy, and the adam optimizer\n",
    "model.compile(loss = 'binary_crossentropy',\n",
    "              optimizer = 'adam',\n",
    "              metrics = ['accuracy'])"
   ]
  },
  {
   "cell_type": "code",
   "execution_count": 39,
   "metadata": {
    "colab": {
     "base_uri": "https://localhost:8080/"
    },
    "id": "nnjtRro2gusU",
    "outputId": "f46cc41b-63fd-4d5c-d2df-e88203a63a2b"
   },
   "outputs": [
    {
     "name": "stdout",
     "output_type": "stream",
     "text": [
      "Epoch 1/5\n",
      "2520/2520 [==============================] - 13s 5ms/step - loss: 0.2099 - accuracy: 0.9283\n",
      "Epoch 2/5\n",
      "2520/2520 [==============================] - 13s 5ms/step - loss: 0.1329 - accuracy: 0.9608\n",
      "Epoch 3/5\n",
      "2520/2520 [==============================] - 13s 5ms/step - loss: 0.1068 - accuracy: 0.9681\n",
      "Epoch 4/5\n",
      "2520/2520 [==============================] - 13s 5ms/step - loss: 0.0997 - accuracy: 0.9703\n",
      "Epoch 5/5\n",
      "2520/2520 [==============================] - 13s 5ms/step - loss: 0.0906 - accuracy: 0.9724\n"
     ]
    },
    {
     "data": {
      "text/plain": [
       "<tensorflow.python.keras.callbacks.History at 0x7fe0741cff28>"
      ]
     },
     "execution_count": 39,
     "metadata": {},
     "output_type": "execute_result"
    }
   ],
   "source": [
    "model.fit(X_train_cnn, y_train, batch_size = 32, epochs= 5, verbose = 1)"
   ]
  },
  {
   "cell_type": "code",
   "execution_count": 40,
   "metadata": {
    "colab": {
     "base_uri": "https://localhost:8080/"
    },
    "id": "QZpOLL_EgusU",
    "outputId": "08a86264-5681-49fd-dc98-de2774c5f106"
   },
   "outputs": [
    {
     "name": "stdout",
     "output_type": "stream",
     "text": [
      "2520/2520 [==============================] - 4s 2ms/step\n",
      "891/891 [==============================] - 1s 1ms/step\n"
     ]
    }
   ],
   "source": [
    "y_train_preds_cnn = model.predict(X_train_cnn,verbose = 1)\n",
    "y_valid_preds_cnn = model.predict(X_valid_cnn,verbose = 1)"
   ]
  },
  {
   "cell_type": "code",
   "execution_count": 41,
   "metadata": {
    "colab": {
     "base_uri": "https://localhost:8080/"
    },
    "id": "-248AsVQgusU",
    "outputId": "d224e59c-e441-4809-a2ec-146343bc879d"
   },
   "outputs": [
    {
     "name": "stdout",
     "output_type": "stream",
     "text": [
      "Train\n",
      "AUC:0.994\n",
      "accuracy:0.978\n",
      "recall:0.963\n",
      "precision:0.963\n",
      "specificity:0.984\n",
      "prevalence:0.299\n",
      " \n",
      "Valid\n",
      "AUC:0.921\n",
      "accuracy:0.853\n",
      "recall:0.805\n",
      "precision:0.789\n",
      "specificity:0.880\n",
      "prevalence:0.358\n",
      " \n"
     ]
    }
   ],
   "source": [
    "print('Train');\n",
    "print_report(y_train, y_train_preds_cnn, thresh)\n",
    "print('Valid');\n",
    "print_report(y_valid, y_valid_preds_cnn, thresh);"
   ]
  },
  {
   "cell_type": "markdown",
   "metadata": {
    "id": "ra_n-Vni4I1y"
   },
   "source": [
    "### Improved CNN"
   ]
  },
  {
   "cell_type": "code",
   "execution_count": 311,
   "metadata": {
    "id": "UJPzNZx24Fl9"
   },
   "outputs": [],
   "source": [
    "model = Sequential()\n",
    "model.add(Conv1D(filters = 4, kernel_size = 21, strides=1, padding='SAME', activation = 'relu', input_shape = (2160,1)))\n",
    "model.add(MaxPool1D(pool_size=3, strides=2, padding='SAME'))\n",
    "model.add(Conv1D(filters = 16, kernel_size = 23, strides=1, padding='SAME', activation = 'relu'))\n",
    "model.add(MaxPool1D(pool_size=3, strides=2, padding='SAME'))\n",
    "model.add(Conv1D(filters = 32, kernel_size = 25, strides=1, padding='SAME', activation = 'relu'))\n",
    "model.add(AvgPool1D(pool_size=3, strides=2, padding='SAME'))\n",
    "model.add(Conv1D(filters = 64, kernel_size = 27, strides=1, padding='SAME', activation = 'relu'))\n",
    "model.add(Flatten())\n",
    "model.add(Dense(128, activation = 'relu'))\n",
    "model.add(Dropout(rate = 0.2))\n",
    "model.add(Dense(1, activation = 'sigmoid'))\n",
    "\n",
    "# compile the model - use categorical crossentropy, and the adam optimizer\n",
    "model.compile(loss = 'binary_crossentropy',\n",
    "              optimizer = 'adam',\n",
    "              metrics = ['accuracy'])"
   ]
  },
  {
   "cell_type": "code",
   "execution_count": 312,
   "metadata": {
    "colab": {
     "base_uri": "https://localhost:8080/"
    },
    "id": "-Gs9YKS04FmA",
    "outputId": "cd30b58e-7fc2-4d54-98c7-6957fd545d53"
   },
   "outputs": [
    {
     "name": "stdout",
     "output_type": "stream",
     "text": [
      "Epoch 1/5\n",
      "2520/2520 [==============================] - 18s 7ms/step - loss: 0.0723 - accuracy: 0.9754\n",
      "Epoch 2/5\n",
      "2520/2520 [==============================] - 18s 7ms/step - loss: 0.0275 - accuracy: 0.9910\n",
      "Epoch 3/5\n",
      "2520/2520 [==============================] - 18s 7ms/step - loss: 0.0195 - accuracy: 0.9935\n",
      "Epoch 4/5\n",
      "2520/2520 [==============================] - 17s 7ms/step - loss: 0.0148 - accuracy: 0.9954\n",
      "Epoch 5/5\n",
      "2520/2520 [==============================] - 17s 7ms/step - loss: 0.0137 - accuracy: 0.9957\n"
     ]
    },
    {
     "data": {
      "text/plain": [
       "<tensorflow.python.keras.callbacks.History at 0x7fdbfcd75588>"
      ]
     },
     "execution_count": 312,
     "metadata": {},
     "output_type": "execute_result"
    }
   ],
   "source": [
    "model.fit(X_train_cnn, y_train, batch_size = 32, epochs= 5, verbose = 1)"
   ]
  },
  {
   "cell_type": "code",
   "execution_count": 313,
   "metadata": {
    "colab": {
     "base_uri": "https://localhost:8080/"
    },
    "id": "MQiq1mpW4FmB",
    "outputId": "773096a2-641d-4a60-b932-22f3589d132c"
   },
   "outputs": [
    {
     "name": "stdout",
     "output_type": "stream",
     "text": [
      "2520/2520 [==============================] - 6s 2ms/step\n",
      "891/891 [==============================] - 2s 3ms/step\n"
     ]
    }
   ],
   "source": [
    "y_train_preds_wavecnn = model.predict(X_train_cnn,verbose = 1)\n",
    "y_valid_preds_wavecnn = model.predict(X_valid_cnn,verbose = 1)"
   ]
  },
  {
   "cell_type": "code",
   "execution_count": 314,
   "metadata": {
    "colab": {
     "base_uri": "https://localhost:8080/"
    },
    "id": "qS6vHmOM4FmB",
    "outputId": "7afd18a0-8b93-413c-f18e-7cb3fc1c0665"
   },
   "outputs": [
    {
     "name": "stdout",
     "output_type": "stream",
     "text": [
      "Train\n",
      "AUC:0.999\n",
      "accuracy:0.995\n",
      "recall:0.995\n",
      "precision:0.988\n",
      "specificity:0.995\n",
      "prevalence:0.299\n",
      " \n",
      "Valid\n",
      "AUC:0.975\n",
      "accuracy:0.923\n",
      "recall:0.892\n",
      "precision:0.893\n",
      "specificity:0.941\n",
      "prevalence:0.358\n",
      " \n"
     ]
    }
   ],
   "source": [
    "print('Train');\n",
    "print_report(y_train, y_train_preds_wavecnn, thresh)\n",
    "print('Valid');\n",
    "print_report(y_valid, y_valid_preds_wavecnn, thresh);"
   ]
  },
  {
   "cell_type": "markdown",
   "metadata": {
    "id": "TPFIqDMPgusU"
   },
   "source": [
    "## LSTM"
   ]
  },
  {
   "cell_type": "code",
   "execution_count": 330,
   "metadata": {
    "id": "Efg10iPQgusU"
   },
   "outputs": [],
   "source": [
    "from keras.layers import Bidirectional, LSTM, Attention"
   ]
  },
  {
   "cell_type": "code",
   "execution_count": 413,
   "metadata": {
    "id": "8uLyvf4egusV"
   },
   "outputs": [],
   "source": [
    "model = Sequential()\n",
    "model.add(Bidirectional(LSTM(32, input_shape=(X_train_cnn.shape[1], X_train_cnn.shape[2]))))\n",
    "model.add(Dense(32, activation = 'sigmoid'))\n",
    "model.add(Dropout(rate = 0.5))\n",
    "model.add(Dense(32, activation = 'sigmoid'))\n",
    "model.add(Dropout(rate = 0.2))\n",
    "model.add(Dense(64, activation = 'sigmoid'))\n",
    "model.add(Dropout(rate = 0.5))\n",
    "model.add(Dense(64, activation = 'sigmoid'))\n",
    "model.add(Dropout(rate = 0.1))\n",
    "model.add(Dense(1, activation = 'sigmoid'))\n",
    "model.compile(loss = 'binary_crossentropy',\n",
    "              optimizer = 'adam',\n",
    "              metrics = ['accuracy'])"
   ]
  },
  {
   "cell_type": "code",
   "execution_count": 414,
   "metadata": {},
   "outputs": [],
   "source": [
    "checkpoint_path = \"./save/lstm_denoise\"\n",
    "checkpoint_dir = os.path.dirname(checkpoint_path)\n",
    "\n",
    "# 모델의 가중치를 저장하는 콜백 만들기\n",
    "cp_callback = tf.keras.callbacks.ModelCheckpoint(filepath=checkpoint_path,\n",
    "                                                 save_weights_only=True,\n",
    "                                                 verbose=1)"
   ]
  },
  {
   "cell_type": "code",
   "execution_count": 415,
   "metadata": {
    "colab": {
     "base_uri": "https://localhost:8080/"
    },
    "id": "Qf5zj0rCgusV",
    "outputId": "35b44a46-c858-45ee-fc33-17c02560d4ca"
   },
   "outputs": [
    {
     "name": "stdout",
     "output_type": "stream",
     "text": [
      "Epoch 1/5\n",
      "157/157 [==============================] - ETA: 0s - loss: 0.7013 - accuracy: 0.5036\n",
      "Epoch 00001: saving model to ./save/lstm_denoise\n",
      "157/157 [==============================] - 27s 175ms/step - loss: 0.7013 - accuracy: 0.5036\n",
      "Epoch 2/5\n",
      "157/157 [==============================] - ETA: 0s - loss: 0.5765 - accuracy: 0.7162\n",
      "Epoch 00002: saving model to ./save/lstm_denoise\n",
      "157/157 [==============================] - 27s 172ms/step - loss: 0.5765 - accuracy: 0.7162\n",
      "Epoch 3/5\n",
      "157/157 [==============================] - ETA: 0s - loss: 0.5173 - accuracy: 0.7800\n",
      "Epoch 00003: saving model to ./save/lstm_denoise\n",
      "157/157 [==============================] - 27s 171ms/step - loss: 0.5173 - accuracy: 0.7800\n",
      "Epoch 4/5\n",
      "157/157 [==============================] - ETA: 0s - loss: 0.5350 - accuracy: 0.7447\n",
      "Epoch 00004: saving model to ./save/lstm_denoise\n",
      "157/157 [==============================] - 27s 171ms/step - loss: 0.5350 - accuracy: 0.7447\n",
      "Epoch 5/5\n",
      "157/157 [==============================] - ETA: 0s - loss: 0.4749 - accuracy: 0.8153\n",
      "Epoch 00005: saving model to ./save/lstm_denoise\n",
      "157/157 [==============================] - 27s 172ms/step - loss: 0.4749 - accuracy: 0.8153\n"
     ]
    },
    {
     "data": {
      "text/plain": [
       "<tensorflow.python.keras.callbacks.History at 0x7fe01716dc18>"
      ]
     },
     "execution_count": 415,
     "metadata": {},
     "output_type": "execute_result"
    }
   ],
   "source": [
    "model.fit(X_train_cnn[:10000], y_train[:10000], batch_size = 64, epochs = 5, verbose = 1, callbacks=[cp_callback])"
   ]
  },
  {
   "cell_type": "code",
   "execution_count": 416,
   "metadata": {
    "colab": {
     "base_uri": "https://localhost:8080/"
    },
    "id": "esOyGcWsgusV",
    "outputId": "3796c1f9-98d4-4907-9d7d-57cf2787ba3d"
   },
   "outputs": [
    {
     "name": "stdout",
     "output_type": "stream",
     "text": [
      "313/313 [==============================] - 25s 81ms/step\n",
      "891/891 [==============================] - 71s 80ms/step\n"
     ]
    }
   ],
   "source": [
    "y_train_preds_lstm = model.predict(X_train_cnn[:10000],verbose = 1)\n",
    "y_valid_preds_lstm = model.predict(X_valid_cnn,verbose = 1)"
   ]
  },
  {
   "cell_type": "code",
   "execution_count": 417,
   "metadata": {
    "colab": {
     "base_uri": "https://localhost:8080/"
    },
    "id": "aMkV8M8egusV",
    "outputId": "30986a68-c29e-4a9a-9990-dfe252a1e3eb"
   },
   "outputs": [
    {
     "name": "stdout",
     "output_type": "stream",
     "text": [
      "Train\n",
      "AUC:0.884\n",
      "accuracy:0.797\n",
      "recall:0.919\n",
      "precision:0.733\n",
      "specificity:0.679\n",
      "prevalence:0.489\n",
      " \n",
      "Valid\n",
      "AUC:0.556\n",
      "accuracy:0.553\n",
      "recall:0.456\n",
      "precision:0.393\n",
      "specificity:0.606\n",
      "prevalence:0.358\n",
      " \n"
     ]
    }
   ],
   "source": [
    "print('Train');\n",
    "print_report(y_train[:10000], y_train_preds_lstm, thresh)\n",
    "print('Valid');\n",
    "print_report(y_valid, y_valid_preds_lstm, thresh);"
   ]
  },
  {
   "cell_type": "markdown",
   "metadata": {
    "id": "07mLfurogusV"
   },
   "source": [
    "# New"
   ]
  },
  {
   "cell_type": "markdown",
   "metadata": {},
   "source": [
    "## LSTM + Attention"
   ]
  },
  {
   "cell_type": "code",
   "execution_count": 336,
   "metadata": {},
   "outputs": [],
   "source": [
    "from keras.layers import Bidirectional, LSTM, Attention\n",
    "TIME_STEPS = X_train_cnn.shape[1]\n",
    "INPUT_DIM  = X_train_cnn.shape[2]"
   ]
  },
  {
   "cell_type": "code",
   "execution_count": 337,
   "metadata": {},
   "outputs": [],
   "source": [
    "def attention_3d_block(inputs):\n",
    "    \n",
    "    # inputs.shape = (batch_size, time_steps, input_dim)\n",
    "    input_dim = int(X_train_cnn.shape[2])\n",
    "    \n",
    "    a = tf.keras.layers.Permute((2, 1))(inputs) # same transpose\n",
    "    #a = tf.keras.layers.Reshape((input_dim, TIME_STEPS))(a) \n",
    "    # this line is not useful. It's just to know which dimension is what.\n",
    "    a = tf.keras.layers.Dense(TIME_STEPS, activation='softmax')(a)\n",
    "    \n",
    "    a_probs = tf.keras.layers.Permute((2, 1), name='attention_vec')(a)\n",
    "    \n",
    "    output_attention_mul  = tf.keras.layers.multiply([inputs, a_probs])\n",
    "    #output_attention_mul = merge([inputs, a_probs], name='attention_mul', mode='mul')\n",
    "    return output_attention_mul"
   ]
  },
  {
   "cell_type": "code",
   "execution_count": 338,
   "metadata": {},
   "outputs": [],
   "source": [
    "def model_attention_applied_after_lstm():\n",
    "    \n",
    "    inputs        = tf.keras.Input(shape=(TIME_STEPS, INPUT_DIM,))\n",
    "    lstm_units    = 64\n",
    "    \n",
    "    lstm_out      = tf.keras.layers.LSTM(lstm_units, return_sequences=True)(inputs)\n",
    "    \n",
    "    attention_mul = attention_3d_block(lstm_out)\n",
    "    attention_mul = tf.keras.layers.Flatten()(attention_mul)\n",
    "    \n",
    "    output        = tf.keras.layers.Dense(1, activation='sigmoid')(attention_mul)\n",
    "    \n",
    "    model         = tf.keras.Model(inputs=[inputs], outputs=output)\n",
    "    \n",
    "    return model"
   ]
  },
  {
   "cell_type": "code",
   "execution_count": 354,
   "metadata": {},
   "outputs": [],
   "source": [
    "def model_attentions_applied_after_lstm():\n",
    "    \n",
    "    inputs        = tf.keras.Input(shape=(TIME_STEPS, INPUT_DIM,))\n",
    "    lstm_units    = 64\n",
    "    \n",
    "    lstm_out1      = tf.keras.layers.LSTM(lstm_units, return_sequences=True)(inputs)\n",
    "    lstm_out2      = tf.keras.layers.LSTM(16, return_sequences=True)(lstm_out1)\n",
    "    lstm_out3      = tf.keras.layers.LSTM(32, return_sequences=True)(lstm_out2)\n",
    "    \n",
    "    attention_mul = attention_3d_block(lstm_out3)\n",
    "    attention_mul = tf.keras.layers.Flatten()(attention_mul)\n",
    "    \n",
    "    output        = tf.keras.layers.Dense(1, activation='sigmoid')(attention_mul)\n",
    "    \n",
    "    model         = tf.keras.Model(inputs=[inputs], outputs=output)\n",
    "    \n",
    "    return model"
   ]
  },
  {
   "cell_type": "code",
   "execution_count": 340,
   "metadata": {},
   "outputs": [],
   "source": [
    "def get_data_recurrent(n, time_steps, input_dim, attention_column=10):\n",
    "\n",
    "    x = np.random.standard_normal(size=(n, time_steps, input_dim))\n",
    "    y = np.random.randint(low=0, high=2, size=(n, 1))\n",
    "\n",
    "    x[:, attention_column, :] = np.tile(y, input_dim)\n",
    "\n",
    "    return x, y"
   ]
  },
  {
   "cell_type": "code",
   "execution_count": 355,
   "metadata": {},
   "outputs": [],
   "source": [
    "train_x_att, train_y_att = get_data_recurrent(30000, TIME_STEPS, INPUT_DIM)\n",
    "\n",
    "modelatt = model_attention_applied_after_lstm()\n",
    "modelatts = model_attentions_applied_after_lstm()\n",
    "modelatt.compile(optimizer='adam', loss='binary_crossentropy', metrics=['accuracy'])\n",
    "modelatts.compile(optimizer='adam', loss='binary_crossentropy', metrics=['accuracy'])"
   ]
  },
  {
   "cell_type": "code",
   "execution_count": 342,
   "metadata": {},
   "outputs": [
    {
     "name": "stdout",
     "output_type": "stream",
     "text": [
      "Epoch 1/3\n",
      "844/844 [==============================] - 79s 94ms/step - loss: 0.2189 - accuracy: 0.9064 - val_loss: 0.0076 - val_accuracy: 1.0000\n",
      "Epoch 2/3\n",
      "844/844 [==============================] - 79s 93ms/step - loss: 0.0034 - accuracy: 1.0000 - val_loss: 0.0015 - val_accuracy: 1.0000\n",
      "Epoch 3/3\n",
      "844/844 [==============================] - 79s 93ms/step - loss: 9.4677e-04 - accuracy: 1.0000 - val_loss: 5.7339e-04 - val_accuracy: 1.0000\n"
     ]
    },
    {
     "data": {
      "text/plain": [
       "<tensorflow.python.keras.callbacks.History at 0x7fd9ea1e7b38>"
      ]
     },
     "execution_count": 342,
     "metadata": {},
     "output_type": "execute_result"
    }
   ],
   "source": [
    "modelatt.fit([train_x_att], train_y_att, epochs=3, batch_size=32, validation_split=0.1)"
   ]
  },
  {
   "cell_type": "code",
   "execution_count": 356,
   "metadata": {},
   "outputs": [
    {
     "name": "stdout",
     "output_type": "stream",
     "text": [
      "Epoch 1/5\n",
      "844/844 [==============================] - 218s 259ms/step - loss: 0.6820 - accuracy: 0.5563 - val_loss: 0.6519 - val_accuracy: 0.6297\n",
      "Epoch 2/5\n",
      "844/844 [==============================] - 216s 256ms/step - loss: 0.6424 - accuracy: 0.6012 - val_loss: 0.6683 - val_accuracy: 0.6083\n",
      "Epoch 3/5\n",
      "844/844 [==============================] - 218s 258ms/step - loss: 0.5444 - accuracy: 0.7065 - val_loss: 0.3259 - val_accuracy: 0.8570\n",
      "Epoch 4/5\n",
      "844/844 [==============================] - 218s 258ms/step - loss: 0.4178 - accuracy: 0.7847 - val_loss: 0.6815 - val_accuracy: 0.6377\n",
      "Epoch 5/5\n",
      "844/844 [==============================] - 216s 256ms/step - loss: 0.2944 - accuracy: 0.8662 - val_loss: 0.0438 - val_accuracy: 0.9873\n"
     ]
    }
   ],
   "source": [
    "modelatts.fit([train_x_att], train_y_att, epochs=5, batch_size=32, validation_split=0.1)\n",
    "\n",
    "layer_outputs    = [layer.output for layer in modelatts.layers if layer.name == 'attention_vec']\n",
    "activation_model = tf.keras.models.Model(inputs=modelatts.input, outputs=layer_outputs)"
   ]
  },
  {
   "cell_type": "code",
   "execution_count": 344,
   "metadata": {},
   "outputs": [
    {
     "name": "stdout",
     "output_type": "stream",
     "text": [
      "313/313 [==============================] - 13s 43ms/step\n",
      "891/891 [==============================] - 38s 42ms/step\n"
     ]
    }
   ],
   "source": [
    "y_train_preds_lstm_att = modelatt.predict(X_train_cnn[:10000],verbose = 1)\n",
    "y_valid_preds_lstm_att = modelatt.predict(X_valid_cnn,verbose = 1)"
   ]
  },
  {
   "cell_type": "code",
   "execution_count": 357,
   "metadata": {},
   "outputs": [
    {
     "name": "stdout",
     "output_type": "stream",
     "text": [
      "313/313 [==============================] - 39s 124ms/step\n",
      "891/891 [==============================] - 111s 124ms/step\n"
     ]
    }
   ],
   "source": [
    "y_train_preds_lstm_atts = modelatts.predict(X_train_cnn[:10000],verbose = 1)\n",
    "y_valid_preds_lstm_atts = modelatts.predict(X_valid_cnn,verbose = 1)"
   ]
  },
  {
   "cell_type": "code",
   "execution_count": 358,
   "metadata": {},
   "outputs": [
    {
     "name": "stdout",
     "output_type": "stream",
     "text": [
      "Train\n",
      "AUC:0.625\n",
      "accuracy:0.544\n",
      "recall:0.130\n",
      "precision:0.676\n",
      "specificity:0.940\n",
      "prevalence:0.489\n",
      " \n",
      "Valid\n",
      "AUC:0.540\n",
      "accuracy:0.636\n",
      "recall:0.046\n",
      "precision:0.421\n",
      "specificity:0.964\n",
      "prevalence:0.358\n",
      " \n"
     ]
    }
   ],
   "source": [
    "print('Train');\n",
    "print_report(y_train[:10000], y_train_preds_lstm_att, thresh)\n",
    "print('Valid');\n",
    "print_report(y_valid, y_valid_preds_lstm_att, thresh);"
   ]
  },
  {
   "cell_type": "code",
   "execution_count": 359,
   "metadata": {},
   "outputs": [
    {
     "name": "stdout",
     "output_type": "stream",
     "text": [
      "Train\n",
      "AUC:0.582\n",
      "accuracy:0.533\n",
      "recall:0.109\n",
      "precision:0.634\n",
      "specificity:0.940\n",
      "prevalence:0.489\n",
      " \n",
      "Valid\n",
      "AUC:0.481\n",
      "accuracy:0.636\n",
      "recall:0.050\n",
      "precision:0.429\n",
      "specificity:0.963\n",
      "prevalence:0.358\n",
      " \n"
     ]
    }
   ],
   "source": [
    "print('Train');\n",
    "print_report(y_train[:10000], y_train_preds_lstm_atts, thresh)\n",
    "print('Valid');\n",
    "print_report(y_valid, y_valid_preds_lstm_atts, thresh);"
   ]
  },
  {
   "cell_type": "markdown",
   "metadata": {
    "id": "ESjBVaRtgusW"
   },
   "source": [
    "## Deep LSTM"
   ]
  },
  {
   "cell_type": "code",
   "execution_count": 64,
   "metadata": {
    "id": "_CJREc09gusW"
   },
   "outputs": [],
   "source": [
    "from keras.layers import Bidirectional, LSTM, Embedding, Attention"
   ]
  },
  {
   "cell_type": "code",
   "execution_count": 90,
   "metadata": {
    "id": "SH5iisZVgusW"
   },
   "outputs": [],
   "source": [
    "model = Sequential()\n",
    "model.add(Bidirectional(LSTM(64, return_sequences = True, input_shape=(X_train_cnn.shape[1], X_train_cnn.shape[2]))))\n",
    "model.add(Bidirectional(LSTM(32, return_sequences = True)))\n",
    "model.add(Bidirectional(LSTM(32, return_sequences = False)))\n",
    "model.add(Dropout(rate = 0.2))\n",
    "model.add(Dense(1, activation = 'sigmoid'))\n",
    "model.compile(loss = 'binary_crossentropy',\n",
    "              optimizer = 'adam',\n",
    "              metrics = ['accuracy'])"
   ]
  },
  {
   "cell_type": "code",
   "execution_count": 91,
   "metadata": {
    "colab": {
     "base_uri": "https://localhost:8080/"
    },
    "id": "hKE3eDRSgusW",
    "outputId": "aac45809-a61b-44c6-b950-e18aba017a38"
   },
   "outputs": [
    {
     "name": "stdout",
     "output_type": "stream",
     "text": [
      "Epoch 1/3\n",
      "313/313 [==============================] - 150s 479ms/step - loss: 0.4191 - accuracy: 0.8123\n",
      "Epoch 2/3\n",
      "313/313 [==============================] - 150s 478ms/step - loss: 0.2759 - accuracy: 0.8980\n",
      "Epoch 3/3\n",
      "313/313 [==============================] - 149s 476ms/step - loss: 0.2612 - accuracy: 0.9047\n"
     ]
    },
    {
     "data": {
      "text/plain": [
       "<tensorflow.python.keras.callbacks.History at 0x7fe10b6e4e80>"
      ]
     },
     "execution_count": 91,
     "metadata": {},
     "output_type": "execute_result"
    }
   ],
   "source": [
    "model.fit(X_train_cnn[:10000], y_train[:10000], batch_size = 32, epochs = 3, verbose = 1)"
   ]
  },
  {
   "cell_type": "code",
   "execution_count": 92,
   "metadata": {
    "colab": {
     "base_uri": "https://localhost:8080/"
    },
    "id": "vwzNej_dgusW",
    "outputId": "93347684-e39a-4c11-fac6-5f8cd15a91d9"
   },
   "outputs": [
    {
     "name": "stdout",
     "output_type": "stream",
     "text": [
      "313/313 [==============================] - 76s 241ms/step\n",
      "891/891 [==============================] - 216s 243ms/step\n"
     ]
    }
   ],
   "source": [
    "y_train_preds_dblstm = model.predict(X_train_cnn[:10000],verbose = 1)\n",
    "y_valid_preds_dblstm = model.predict(X_valid_cnn,verbose = 1)"
   ]
  },
  {
   "cell_type": "code",
   "execution_count": 93,
   "metadata": {
    "colab": {
     "base_uri": "https://localhost:8080/"
    },
    "id": "JnT6a10IgusW",
    "outputId": "3184c9ad-97e3-4d9b-ec70-6197dc32f760"
   },
   "outputs": [
    {
     "name": "stdout",
     "output_type": "stream",
     "text": [
      "Train\n",
      "AUC:0.958\n",
      "accuracy:0.912\n",
      "recall:0.901\n",
      "precision:0.918\n",
      "specificity:0.922\n",
      "prevalence:0.489\n",
      " \n",
      "Valid\n",
      "AUC:0.590\n",
      "accuracy:0.591\n",
      "recall:0.488\n",
      "precision:0.437\n",
      "specificity:0.649\n",
      "prevalence:0.358\n",
      " \n"
     ]
    }
   ],
   "source": [
    "print('Train');\n",
    "print_report(y_train[:10000], y_train_preds_dblstm, thresh)\n",
    "print('Valid');\n",
    "print_report(y_valid, y_valid_preds_dblstm, thresh);"
   ]
  },
  {
   "cell_type": "code",
   "execution_count": 441,
   "metadata": {
    "colab": {
     "base_uri": "https://localhost:8080/",
     "height": 295
    },
    "id": "YRDNFd1gwDyq",
    "outputId": "b230ebbb-2842-4f15-94bc-14b0dd03483e"
   },
   "outputs": [
    {
     "data": {
      "image/png": "[encoded data removed]",
      "text/plain": [
       "<Figure size 432x288 with 1 Axes>"
      ]
     },
     "metadata": {
      "needs_background": "light"
     },
     "output_type": "display_data"
    }
   ],
   "source": [
    "from sklearn.metrics import roc_curve, roc_auc_score\n",
    "\n",
    "fpr_valid_dense, tpr_valid_dense, t_valid_dense = roc_curve(y_valid, y_valid_preds_dense)\n",
    "auc_valid_dense = roc_auc_score(y_valid, y_valid_preds_dense)\n",
    "\n",
    "fpr_valid_cnn, tpr_valid_cnn, t_valid_cnn = roc_curve(y_valid, y_valid_preds_cnn)\n",
    "auc_valid_cnn = roc_auc_score(y_valid, y_valid_preds_cnn)\n",
    "\n",
    "fpr_valid_wavecnn, tpr_valid_wavecnn, t_valid_wavecnn = roc_curve(y_valid, y_valid_preds_wavecnn)\n",
    "auc_valid_wavecnn = roc_auc_score(y_valid, y_valid_preds_wavecnn)\n",
    "\n",
    "fpr_valid_lstm, tpr_valid_lstm, t_valid_lstm = roc_curve(y_valid, y_valid_preds_lstm)\n",
    "auc_valid_lstm = roc_auc_score(y_valid, y_valid_preds_lstm)\n",
    "\n",
    "fpr_valid_lstm_att, tpr_valid_lstm_att, t_valid_lstm_att = roc_curve(y_valid, y_valid_preds_lstm_att)\n",
    "auc_valid_lstm_att = roc_auc_score(y_valid, y_valid_preds_lstm_att)\n",
    "\n",
    "fpr_valid_dblstm, tpr_valid_dblstm, t_valid_dblstm = roc_curve(y_valid, y_valid_preds_dblstm)\n",
    "auc_valid_dblstm = roc_auc_score(y_valid, y_valid_preds_dblstm)\n",
    "\n",
    "plt.plot(fpr_valid_dense, tpr_valid_dense, 'b', label = 'Dense AUC:%.3f'%auc_valid_dense)\n",
    "plt.plot(fpr_valid_cnn, tpr_valid_cnn, 'c', label = 'Simple CNN AUC:%.3f'%auc_valid_cnn)\n",
    "plt.plot(fpr_valid_lstm, tpr_valid_lstm, 'g', label = 'LSTM AUC:%.3f'%auc_valid_lstm)\n",
    "plt.plot(fpr_valid_lstm_att, tpr_valid_lstm_att, 'm', label = 'LSTM_Attention AUC:%.3f'%auc_valid_lstm_att)\n",
    "plt.plot(fpr_valid_dblstm, tpr_valid_dblstm, 'y', label = 'Deep LSTM AUC:%.3f'%auc_valid_dblstm)\n",
    "plt.plot(fpr_valid_wavecnn, tpr_valid_wavecnn, 'r', label = 'WAD AUC:%.3f'%auc_valid_wavecnn)\n",
    "\n",
    "plt.plot([0,1],[0,1], 'k--')\n",
    "plt.xlabel('FPR')\n",
    "plt.ylabel('TPR')\n",
    "plt.legend(bbox_to_anchor = (1.04,1), loc = 'best')\n",
    "plt.title('AUC of validation set')\n",
    "\n",
    "plt.savefig('./savefig_denoise.png')\n",
    "plt.show()"
   ]
  },
  {
   "cell_type": "code",
   "execution_count": 443,
   "metadata": {},
   "outputs": [
    {
     "data": {
      "text/plain": [
       "'2.3.1'"
      ]
     },
     "execution_count": 443,
     "metadata": {},
     "output_type": "execute_result"
    }
   ],
   "source": [
    "tf.__version__"
   ]
  },
  {
   "cell_type": "code",
   "execution_count": 445,
   "metadata": {},
   "outputs": [
    {
     "data": {
      "text/plain": [
       "[name: \"/device:CPU:0\"\n",
       " device_type: \"CPU\"\n",
       " memory_limit: 268435456\n",
       " locality {\n",
       " }\n",
       " incarnation: 14516959090875536708,\n",
       " name: \"/device:XLA_CPU:0\"\n",
       " device_type: \"XLA_CPU\"\n",
       " memory_limit: 17179869184\n",
       " locality {\n",
       " }\n",
       " incarnation: 10221786224006307027\n",
       " physical_device_desc: \"device: XLA_CPU device\",\n",
       " name: \"/device:XLA_GPU:0\"\n",
       " device_type: \"XLA_GPU\"\n",
       " memory_limit: 17179869184\n",
       " locality {\n",
       " }\n",
       " incarnation: 229826052664078984\n",
       " physical_device_desc: \"device: XLA_GPU device\",\n",
       " name: \"/device:GPU:0\"\n",
       " device_type: \"GPU\"\n",
       " memory_limit: 8695073984\n",
       " locality {\n",
       "   bus_id: 2\n",
       "   numa_node: 1\n",
       "   links {\n",
       "   }\n",
       " }\n",
       " incarnation: 6087295523976057256\n",
       " physical_device_desc: \"device: 0, name: GeForce RTX 2080 Ti, pci bus id: 0000:b1:00.0, compute capability: 7.5\"]"
      ]
     },
     "execution_count": 445,
     "metadata": {},
     "output_type": "execute_result"
    }
   ],
   "source": [
    "from tensorflow.python.client import device_lib\n",
    "device_lib.list_local_devices()"
   ]
  },
  {
   "cell_type": "code",
   "execution_count": null,
   "metadata": {},
   "outputs": [],
   "source": []
  }
 ],
 "metadata": {
  "accelerator": "GPU",
  "colab": {
   "collapsed_sections": [],
   "name": "Arrythmia Project_denoise.ipynb",
   "provenance": []
  },
  "kernelspec": {
   "display_name": "Python3.6",
   "language": "python",
   "name": "py36"
  },
  "language_info": {
   "codemirror_mode": {
    "name": "ipython",
    "version": 3
   },
   "file_extension": ".py",
   "mimetype": "text/x-python",
   "name": "python",
   "nbconvert_exporter": "python",
   "pygments_lexer": "ipython3",
   "version": "3.6.10"
  }
 },
 "nbformat": 4,
 "nbformat_minor": 4
}
